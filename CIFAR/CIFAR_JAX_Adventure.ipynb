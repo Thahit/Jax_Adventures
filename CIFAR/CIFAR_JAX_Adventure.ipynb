{
  "nbformat": 4,
  "nbformat_minor": 0,
  "metadata": {
    "colab": {
      "name": "CIFAR_JAX_Adventure.ipynb",
      "provenance": [],
      "collapsed_sections": [],
      "toc_visible": true
    },
    "kernelspec": {
      "name": "python3",
      "display_name": "Python 3"
    },
    "language_info": {
      "name": "python"
    },
    "accelerator": "GPU",
    "gpuClass": "standard"
  },
  "cells": [
    {
      "cell_type": "code",
      "source": [
        "#pip install flax"
      ],
      "metadata": {
        "id": "CspV4IfoNuH1"
      },
      "execution_count": 1,
      "outputs": []
    },
    {
      "cell_type": "markdown",
      "source": [
        "# Imports"
      ],
      "metadata": {
        "id": "6q1_syJSOIn0"
      }
    },
    {
      "cell_type": "code",
      "execution_count": 2,
      "metadata": {
        "id": "Gxjji4z8NLJp"
      },
      "outputs": [],
      "source": [
        "import jax\n",
        "import jax.numpy as jnp\n",
        "import numpy as np\n",
        "import flax\n",
        "from flax.training import train_state\n",
        "import optax\n",
        "\n",
        "import torch\n",
        "from torchvision import datasets\n",
        "\n",
        "import time\n",
        "import matplotlib.pyplot as plt"
      ]
    },
    {
      "cell_type": "markdown",
      "source": [
        "# Data"
      ],
      "metadata": {
        "id": "N4I9AoXQQYzc"
      }
    },
    {
      "cell_type": "code",
      "source": [
        "def custom_collate_fn(batch):\n",
        "    transposed_data = list(zip(*batch))\n",
        "\n",
        "    labels = np.array(transposed_data[1])\n",
        "    imgs = np.stack(transposed_data[0])\n",
        "\n",
        "    return imgs, labels"
      ],
      "metadata": {
        "id": "WJLHwpROQat7"
      },
      "execution_count": 3,
      "outputs": []
    },
    {
      "cell_type": "code",
      "source": [
        "batch_size = 2048\n",
        "\n",
        "train_loader = torch.utils.data.DataLoader(\n",
        "    datasets.CIFAR10('../data', train=True, download=True,),\n",
        "    batch_size=batch_size, shuffle=True,\n",
        "    collate_fn=custom_collate_fn,\n",
        "    drop_last = True # because the last one might(does) have the wrong size\n",
        "    )\n",
        "\n",
        "test_loader = torch.utils.data.DataLoader(\n",
        "    datasets.CIFAR10('../data', train=False, download=True,),\n",
        "    batch_size=batch_size, shuffle=True,\n",
        "    collate_fn=custom_collate_fn,\n",
        "    drop_last = True\n",
        "    )\n"
      ],
      "metadata": {
        "colab": {
          "base_uri": "https://localhost:8080/"
        },
        "id": "EtIiGNGNQh0V",
        "outputId": "f576cc65-5e35-4d20-aeca-f126460abaa8"
      },
      "execution_count": 4,
      "outputs": [
        {
          "output_type": "stream",
          "name": "stdout",
          "text": [
            "Files already downloaded and verified\n",
            "Files already downloaded and verified\n"
          ]
        }
      ]
    },
    {
      "cell_type": "code",
      "source": [
        "'''for imgs, sol in train_loader:\n",
        "    print(imgs.shape)\n",
        "    break'''\n",
        "img_size = (32, 32, 3)\n",
        "num_classes = 10"
      ],
      "metadata": {
        "id": "-DfoxjBxQm3A"
      },
      "execution_count": 5,
      "outputs": []
    },
    {
      "cell_type": "markdown",
      "source": [
        "# Model\n",
        "I have been experimenting with different versions."
      ],
      "metadata": {
        "id": "oB7bf8MiNXkw"
      }
    },
    {
      "cell_type": "code",
      "source": [
        "'''\n",
        "class master_model(flax.linen.Module): \n",
        "    @flax.linen.compact\n",
        "    def __call__(self, x):#size: 32\n",
        "        x = flax.linen.Conv(features=32, kernel_size=(3, 3))(x)\n",
        "        x = flax.linen.relu(x)\n",
        "        x = flax.linen.avg_pool(x, window_shape=(2, 2), strides=(2, 2))#size: 16\n",
        "        x = flax.linen.Conv(features=64, kernel_size=(3, 3))(x)\n",
        "        x = flax.linen.relu(x)\n",
        "        x = flax.linen.avg_pool(x, window_shape=(2, 2), strides=(2, 2))#size: 8\n",
        "        x = flax.linen.Conv(features=128, kernel_size=(3, 3))(x)\n",
        "        x = flax.linen.relu(x)\n",
        "        x = flax.linen.avg_pool(x, window_shape=(2, 2), strides=(2, 2))#size: 4\n",
        "        x = x.reshape((x.shape[0], -1))  # flatten == 2024\n",
        "        # print(x.shape) # if not sure\n",
        "        x = flax.linen.Dense(features=2024)(x)\n",
        "        x = flax.linen.relu(x)\n",
        "        x = flax.linen.Dense(features=512)(x)\n",
        "        x = flax.linen.relu(x)\n",
        "        x = flax.linen.Dense(features=256)(x)\n",
        "        x = flax.linen.relu(x)\n",
        "        x = flax.linen.Dense(features=10)(x)\n",
        "        x = flax.linen.softmax(x)\n",
        "        return x\n",
        "'''\n"
      ],
      "metadata": {
        "colab": {
          "base_uri": "https://localhost:8080/",
          "height": 122
        },
        "id": "DTRYsMj4Ojiz",
        "outputId": "996a51b9-90e6-4aa3-db75-7f27307a6ca7"
      },
      "execution_count": 6,
      "outputs": [
        {
          "output_type": "execute_result",
          "data": {
            "text/plain": [
              "'\\nclass master_model(flax.linen.Module): \\n    @flax.linen.compact\\n    def __call__(self, x):#size: 32\\n        x = flax.linen.Conv(features=32, kernel_size=(3, 3))(x)\\n        x = flax.linen.relu(x)\\n        x = flax.linen.avg_pool(x, window_shape=(2, 2), strides=(2, 2))#size: 16\\n        x = flax.linen.Conv(features=64, kernel_size=(3, 3))(x)\\n        x = flax.linen.relu(x)\\n        x = flax.linen.avg_pool(x, window_shape=(2, 2), strides=(2, 2))#size: 8\\n        x = flax.linen.Conv(features=128, kernel_size=(3, 3))(x)\\n        x = flax.linen.relu(x)\\n        x = flax.linen.avg_pool(x, window_shape=(2, 2), strides=(2, 2))#size: 4\\n        x = x.reshape((x.shape[0], -1))  # flatten == 2024\\n        # print(x.shape) # if not sure\\n        x = flax.linen.Dense(features=2024)(x)\\n        x = flax.linen.relu(x)\\n        x = flax.linen.Dense(features=512)(x)\\n        x = flax.linen.relu(x)\\n        x = flax.linen.Dense(features=256)(x)\\n        x = flax.linen.relu(x)\\n        x = flax.linen.Dense(features=10)(x)\\n        x = flax.linen.softmax(x)\\n        return x\\n'"
            ],
            "application/vnd.google.colaboratory.intrinsic+json": {
              "type": "string"
            }
          },
          "metadata": {},
          "execution_count": 6
        }
      ]
    },
    {
      "cell_type": "code",
      "source": [
        "# https://arxiv.org/pdf/1202.2745v1.pdf\n",
        "# I tried to recreate mcdnn because it was one of the first papers performing really well on this specific dataset\n",
        "class master_model(flax.linen.Module): \n",
        "    @flax.linen.compact\n",
        "    def __call__(self, x):#size: 32\n",
        "        x = flax.linen.Conv(features=300, kernel_size=(3, 3), padding=\"Valid\")(x)#30\n",
        "        x = flax.linen.relu(x)\n",
        "        x = flax.linen.avg_pool(x, window_shape=(2, 2), strides=(2, 2))#15\n",
        "\n",
        "        x = flax.linen.Conv(features=300, kernel_size=(2, 2), padding=\"Valid\")(x)#14\n",
        "        x = flax.linen.relu(x)\n",
        "        x = flax.linen.avg_pool(x, window_shape=(2, 2), strides=(2, 2))#size: 7\n",
        "\n",
        "        x = flax.linen.Conv(features=300, kernel_size=(2, 2), padding=\"Valid\")(x)#6\n",
        "        x = flax.linen.relu(x)\n",
        "        x = flax.linen.avg_pool(x, window_shape=(2, 2), strides=(2, 2))#size: 3\n",
        "\n",
        "        x = flax.linen.Conv(features=300, kernel_size=(2, 2), padding=\"Valid\")(x)#2\n",
        "        x = flax.linen.relu(x)\n",
        "        x = flax.linen.avg_pool(x, window_shape=(2, 2), strides=(2, 2), padding=\"Valid\")# 1\n",
        "        #x = x.reshape((x.shape[0], -1))  # flatten == 2024\n",
        "        # print(x.shape) # if not sure\n",
        "        x = flax.linen.Dense(features=300)(x)\n",
        "        x = flax.linen.relu(x)\n",
        "        x = flax.linen.Dense(features=100)(x)\n",
        "        x = flax.linen.relu(x)\n",
        "        x = flax.linen.Dense(features=10)(x)\n",
        "        x = flax.linen.softmax(x)\n",
        "        return x"
      ],
      "metadata": {
        "id": "GioqcCMjwOki"
      },
      "execution_count": 7,
      "outputs": []
    },
    {
      "cell_type": "markdown",
      "source": [
        "# Loss"
      ],
      "metadata": {
        "id": "_kuWdAeoO0Me"
      }
    },
    {
      "cell_type": "code",
      "source": [
        "@jax.jit\n",
        "def loss_fn(params, inputs, onehot_labels):\n",
        "    predictions  = master_model().apply({'params': params}, inputs)# you are predicting inside the loss\n",
        "    \n",
        "    loss = jnp.mean(jnp.sum(onehot_labels * (1-predictions), axis=-1)) + jnp.mean(jnp.sum(jnp.abs(onehot_labels-1) * predictions, axis=-1))\n",
        "    return  loss, predictions"
      ],
      "metadata": {
        "id": "Glpajjx_OkYE"
      },
      "execution_count": 8,
      "outputs": []
    },
    {
      "cell_type": "markdown",
      "source": [
        "# Utility"
      ],
      "metadata": {
        "id": "7EDMfjBLPAgF"
      }
    },
    {
      "cell_type": "code",
      "source": [
        "@jax.jit\n",
        "def train_step(state, imgs, labels):\n",
        "    labels_onehot = jax.nn.one_hot(labels, num_classes=10)\n",
        "    (loss, predictions), grads = jax.value_and_grad(loss_fn, has_aux=True)(state.params, imgs, labels_onehot)\n",
        "    state = state.apply_gradients(grads=grads)  \n",
        "    metrics = compute_metrics(predictions=predictions, loss=loss, labels=labels)\n",
        "    return state, metrics\n",
        "\n",
        "def compute_metrics(*, predictions, loss, labels):\n",
        "    #one_hot_labels = jax.nn.one_hot(labels, num_classes=10)\n",
        "\n",
        "    #loss = ... # We already computed the loss, so why do it agin?\n",
        "    accuracy = jnp.mean(jnp.argmax(predictions, -1) == labels)\n",
        "\n",
        "    metrics = {\n",
        "        'loss': loss,\n",
        "        'accuracy': accuracy,\n",
        "    }\n",
        "    return metrics\n",
        "\n",
        "@jax.jit\n",
        "def eval_step(state, imgs, labels):\n",
        "    labels_onehot = jax.nn.one_hot(labels, num_classes=10)\n",
        "    loss, predictions = loss_fn(state.params, imgs, labels_onehot)\n",
        "    return compute_metrics(predictions=predictions, loss=loss, labels=labels)"
      ],
      "metadata": {
        "id": "m07HpfepOklI"
      },
      "execution_count": 9,
      "outputs": []
    },
    {
      "cell_type": "code",
      "source": [
        "def train_one_epoch(state, dataloader, epoch):\n",
        "    \"\"\"Train for 1 epoch on the training set.\"\"\"\n",
        "    batch_metrics = []\n",
        "    for cnt, (imgs, labels) in enumerate(dataloader):\n",
        "        state, metrics = train_step(state, imgs, labels)\n",
        "        \n",
        "        batch_metrics.append(metrics)\n",
        "\n",
        "    # Aggregate the metrics\n",
        "    batch_metrics_np = jax.device_get(batch_metrics)  # pull from the accelerator onto host (CPU)\n",
        "    epoch_metrics_np = {\n",
        "        k: np.mean([metrics[k] for metrics in batch_metrics_np])\n",
        "        for k in batch_metrics_np[0]\n",
        "    }\n",
        "\n",
        "    return state, epoch_metrics_np\n",
        "\n",
        "\n",
        "def evaluate_model(state, dataloader):#test set\n",
        "    batch_metrics = []\n",
        "    for imgs, labels in dataloader:\n",
        "        metrics = eval_step(state, imgs, labels)\n",
        "        batch_metrics.append(metrics)\n",
        "    \n",
        "    #Aggregate the metrics\n",
        "    batch_metrics_np = jax.device_get(batch_metrics)  # pull from the accelerator onto host (CPU)\n",
        "    epoch_metrics_np = {\n",
        "        k: np.mean([metrics[k] for metrics in batch_metrics_np])\n",
        "        for k in batch_metrics_np[0]\n",
        "    }\n",
        "    return epoch_metrics_np"
      ],
      "metadata": {
        "id": "8xJpgxaiNZDA"
      },
      "execution_count": 10,
      "outputs": []
    },
    {
      "cell_type": "code",
      "source": [
        "#init the model, optimizer etc.\n",
        "def create_train_state(key, learning_rate, momentum, img_size):\n",
        "    model = master_model()\n",
        "    params = model.init(key, jnp.ones([1, *img_size]))['params']\n",
        "    sgd_opt = optax.sgd(learning_rate, momentum)\n",
        "    \n",
        "    return train_state.TrainState.create(apply_fn=model.apply, params=params, tx=sgd_opt)"
      ],
      "metadata": {
        "id": "DYv6R1U6NaIo"
      },
      "execution_count": 11,
      "outputs": []
    },
    {
      "cell_type": "markdown",
      "source": [
        "# Train"
      ],
      "metadata": {
        "id": "COtKdjGQQKeE"
      }
    },
    {
      "cell_type": "code",
      "source": [
        "# for some reason, train_state.TrainState.create can only be run once, so you need to restart the notebook if you want to rerun this cell\n",
        "num_epochs = 1000\n",
        "lr = optax.linear_schedule(.003 ,.000001, transition_steps=round(num_epochs*.9))\n",
        "log_epochs = 25\n",
        "momentum = .7\n",
        "seed = 42\n",
        "\n",
        "train_state = create_train_state(jax.random.PRNGKey(seed), lr, momentum, img_size)"
      ],
      "metadata": {
        "id": "ZOgSLfkCNaY2"
      },
      "execution_count": 12,
      "outputs": []
    },
    {
      "cell_type": "code",
      "source": [
        "test_metrics_dict = {}\n",
        "start = time.time()\n",
        "for epoch in range(num_epochs):\n",
        "    train_state, train_metrics = train_one_epoch(train_state, train_loader, epoch)\n",
        "    end = time.time()\n",
        "    \n",
        "    if epoch % 5 == 0:# don't print every update\n",
        "      time_since_start = (end-start)/60 # in minutes\n",
        "      print(f\"Train epoch: {epoch+1}, loss: {train_metrics['loss']:.5f}, accuracy: {train_metrics['accuracy']:.5f}, time: {time_since_start:.2f} minutes, estimated runtime: {((time_since_start)/(epoch+1)*num_epochs):.2f} minutes({time_since_start/((time_since_start)/(epoch+1)*num_epochs)*100:.2f}% complete).\")\n",
        "\n",
        "    if epoch % log_epochs == 0:#evaluate method\n",
        "        test_metrics = evaluate_model(train_state, test_loader)\n",
        "        print(f\"\\t\\t\\t\\t---Test epoch: {epoch+1}, loss: {test_metrics['loss']:.5f}, accuracy: {test_metrics['accuracy']:.5f}---\")\n",
        "        test_metrics_dict[epoch+1] = test_metrics"
      ],
      "metadata": {
        "colab": {
          "base_uri": "https://localhost:8080/"
        },
        "id": "B2h5a2VpNakM",
        "outputId": "3350630c-4228-4479-e57d-42809fc04d67"
      },
      "execution_count": 13,
      "outputs": [
        {
          "output_type": "stream",
          "name": "stdout",
          "text": [
            "Train epoch: 1, loss: 1.79965, accuracy: 0.10018, time: 0.33 minutes, estimated runtime: 327.84 minutes(0.10% complete).\n",
            "\t\t\t\t---Test epoch: 1, loss: 1.80321, accuracy: 0.09839---\n",
            "Train epoch: 6, loss: 1.79981, accuracy: 0.10010, time: 1.44 minutes, estimated runtime: 240.44 minutes(0.60% complete).\n",
            "Train epoch: 11, loss: 1.79977, accuracy: 0.10012, time: 2.47 minutes, estimated runtime: 224.98 minutes(1.10% complete).\n",
            "Train epoch: 16, loss: 1.80013, accuracy: 0.09994, time: 3.50 minutes, estimated runtime: 218.71 minutes(1.60% complete).\n",
            "Train epoch: 21, loss: 1.79989, accuracy: 0.10006, time: 4.54 minutes, estimated runtime: 216.01 minutes(2.10% complete).\n",
            "Train epoch: 26, loss: 1.80001, accuracy: 0.10000, time: 5.56 minutes, estimated runtime: 214.02 minutes(2.60% complete).\n",
            "\t\t\t\t---Test epoch: 26, loss: 1.80126, accuracy: 0.09937---\n",
            "Train epoch: 31, loss: 1.80017, accuracy: 0.09991, time: 6.60 minutes, estimated runtime: 212.92 minutes(3.10% complete).\n",
            "Train epoch: 36, loss: 1.80001, accuracy: 0.10000, time: 7.63 minutes, estimated runtime: 211.83 minutes(3.60% complete).\n",
            "Train epoch: 41, loss: 1.80001, accuracy: 0.10000, time: 8.65 minutes, estimated runtime: 211.02 minutes(4.10% complete).\n",
            "Train epoch: 46, loss: 1.80001, accuracy: 0.10000, time: 9.68 minutes, estimated runtime: 210.52 minutes(4.60% complete).\n",
            "Train epoch: 51, loss: 1.80001, accuracy: 0.10000, time: 10.71 minutes, estimated runtime: 210.09 minutes(5.10% complete).\n",
            "\t\t\t\t---Test epoch: 51, loss: 1.79834, accuracy: 0.10083---\n",
            "Train epoch: 56, loss: 1.79956, accuracy: 0.10022, time: 11.75 minutes, estimated runtime: 209.88 minutes(5.60% complete).\n",
            "Train epoch: 61, loss: 1.79968, accuracy: 0.10016, time: 12.78 minutes, estimated runtime: 209.50 minutes(6.10% complete).\n",
            "Train epoch: 66, loss: 1.79972, accuracy: 0.10014, time: 13.81 minutes, estimated runtime: 209.21 minutes(6.60% complete).\n",
            "Train epoch: 71, loss: 1.80013, accuracy: 0.09993, time: 14.83 minutes, estimated runtime: 208.90 minutes(7.10% complete).\n",
            "Train epoch: 76, loss: 1.79980, accuracy: 0.10010, time: 15.86 minutes, estimated runtime: 208.65 minutes(7.60% complete).\n",
            "\t\t\t\t---Test epoch: 76, loss: 1.79541, accuracy: 0.10229---\n",
            "Train epoch: 81, loss: 1.80001, accuracy: 0.10000, time: 16.90 minutes, estimated runtime: 208.62 minutes(8.10% complete).\n",
            "Train epoch: 86, loss: 1.79993, accuracy: 0.10004, time: 17.93 minutes, estimated runtime: 208.50 minutes(8.60% complete).\n",
            "Train epoch: 91, loss: 1.79952, accuracy: 0.10024, time: 18.96 minutes, estimated runtime: 208.36 minutes(9.10% complete).\n",
            "Train epoch: 96, loss: 1.80029, accuracy: 0.09985, time: 19.99 minutes, estimated runtime: 208.21 minutes(9.60% complete).\n",
            "Train epoch: 101, loss: 1.79997, accuracy: 0.10002, time: 21.02 minutes, estimated runtime: 208.07 minutes(10.10% complete).\n",
            "\t\t\t\t---Test epoch: 101, loss: 1.80005, accuracy: 0.09998---\n",
            "Train epoch: 106, loss: 1.79936, accuracy: 0.10032, time: 22.05 minutes, estimated runtime: 208.03 minutes(10.60% complete).\n",
            "Train epoch: 111, loss: 1.80021, accuracy: 0.09989, time: 23.08 minutes, estimated runtime: 207.93 minutes(11.10% complete).\n",
            "Train epoch: 116, loss: 1.79980, accuracy: 0.10010, time: 24.11 minutes, estimated runtime: 207.84 minutes(11.60% complete).\n",
            "Train epoch: 121, loss: 1.80094, accuracy: 0.09953, time: 25.14 minutes, estimated runtime: 207.78 minutes(12.10% complete).\n",
            "Train epoch: 126, loss: 1.79997, accuracy: 0.10002, time: 26.17 minutes, estimated runtime: 207.71 minutes(12.60% complete).\n",
            "\t\t\t\t---Test epoch: 126, loss: 1.79932, accuracy: 0.10034---\n",
            "Train epoch: 131, loss: 1.80041, accuracy: 0.09979, time: 27.21 minutes, estimated runtime: 207.73 minutes(13.10% complete).\n",
            "Train epoch: 136, loss: 1.80001, accuracy: 0.10000, time: 28.25 minutes, estimated runtime: 207.69 minutes(13.60% complete).\n",
            "Train epoch: 141, loss: 1.80033, accuracy: 0.09983, time: 29.28 minutes, estimated runtime: 207.66 minutes(14.10% complete).\n",
            "Train epoch: 146, loss: 1.79960, accuracy: 0.10020, time: 30.31 minutes, estimated runtime: 207.60 minutes(14.60% complete).\n",
            "Train epoch: 151, loss: 1.80013, accuracy: 0.09994, time: 31.34 minutes, estimated runtime: 207.55 minutes(15.10% complete).\n",
            "\t\t\t\t---Test epoch: 151, loss: 1.79761, accuracy: 0.10120---\n",
            "Train epoch: 156, loss: 1.80009, accuracy: 0.09996, time: 32.38 minutes, estimated runtime: 207.54 minutes(15.60% complete).\n",
            "Train epoch: 161, loss: 1.79993, accuracy: 0.10004, time: 33.40 minutes, estimated runtime: 207.45 minutes(16.10% complete).\n",
            "Train epoch: 166, loss: 1.79989, accuracy: 0.10006, time: 34.43 minutes, estimated runtime: 207.39 minutes(16.60% complete).\n",
            "Train epoch: 171, loss: 1.79969, accuracy: 0.10016, time: 35.45 minutes, estimated runtime: 207.34 minutes(17.10% complete).\n",
            "Train epoch: 176, loss: 1.79980, accuracy: 0.10010, time: 36.48 minutes, estimated runtime: 207.29 minutes(17.60% complete).\n",
            "\t\t\t\t---Test epoch: 176, loss: 1.80102, accuracy: 0.09949---\n",
            "Train epoch: 181, loss: 1.79997, accuracy: 0.10002, time: 37.52 minutes, estimated runtime: 207.32 minutes(18.10% complete).\n",
            "Train epoch: 186, loss: 1.79960, accuracy: 0.10020, time: 38.55 minutes, estimated runtime: 207.27 minutes(18.60% complete).\n",
            "Train epoch: 191, loss: 1.80009, accuracy: 0.09995, time: 39.58 minutes, estimated runtime: 207.22 minutes(19.10% complete).\n",
            "Train epoch: 196, loss: 1.79952, accuracy: 0.10024, time: 40.60 minutes, estimated runtime: 207.17 minutes(19.60% complete).\n",
            "Train epoch: 201, loss: 1.80074, accuracy: 0.09963, time: 41.64 minutes, estimated runtime: 207.14 minutes(20.10% complete).\n",
            "\t\t\t\t---Test epoch: 201, loss: 1.80127, accuracy: 0.09937---\n",
            "Train epoch: 206, loss: 1.79988, accuracy: 0.10006, time: 42.68 minutes, estimated runtime: 207.17 minutes(20.60% complete).\n",
            "Train epoch: 211, loss: 1.79972, accuracy: 0.10014, time: 43.71 minutes, estimated runtime: 207.15 minutes(21.10% complete).\n",
            "Train epoch: 216, loss: 1.80025, accuracy: 0.09987, time: 44.74 minutes, estimated runtime: 207.11 minutes(21.60% complete).\n",
            "Train epoch: 221, loss: 1.80017, accuracy: 0.09991, time: 45.76 minutes, estimated runtime: 207.07 minutes(22.10% complete).\n",
            "Train epoch: 226, loss: 1.80078, accuracy: 0.09961, time: 46.79 minutes, estimated runtime: 207.05 minutes(22.60% complete).\n",
            "\t\t\t\t---Test epoch: 226, loss: 1.80249, accuracy: 0.09875---\n",
            "Train epoch: 231, loss: 1.79985, accuracy: 0.10008, time: 47.84 minutes, estimated runtime: 207.08 minutes(23.10% complete).\n",
            "Train epoch: 236, loss: 1.80070, accuracy: 0.09965, time: 48.87 minutes, estimated runtime: 207.06 minutes(23.60% complete).\n",
            "Train epoch: 241, loss: 1.80025, accuracy: 0.09987, time: 49.90 minutes, estimated runtime: 207.04 minutes(24.10% complete).\n",
            "Train epoch: 246, loss: 1.80041, accuracy: 0.09979, time: 50.93 minutes, estimated runtime: 207.01 minutes(24.60% complete).\n",
            "Train epoch: 251, loss: 1.79968, accuracy: 0.10016, time: 51.95 minutes, estimated runtime: 206.99 minutes(25.10% complete).\n",
            "\t\t\t\t---Test epoch: 251, loss: 1.80054, accuracy: 0.09973---\n",
            "Train epoch: 256, loss: 1.79989, accuracy: 0.10006, time: 52.99 minutes, estimated runtime: 207.00 minutes(25.60% complete).\n",
            "Train epoch: 261, loss: 1.80070, accuracy: 0.09965, time: 54.02 minutes, estimated runtime: 206.98 minutes(26.10% complete).\n",
            "Train epoch: 266, loss: 1.79984, accuracy: 0.10008, time: 55.05 minutes, estimated runtime: 206.94 minutes(26.60% complete).\n",
            "Train epoch: 271, loss: 1.79972, accuracy: 0.10014, time: 56.08 minutes, estimated runtime: 206.93 minutes(27.10% complete).\n",
            "Train epoch: 276, loss: 1.79956, accuracy: 0.10022, time: 57.11 minutes, estimated runtime: 206.91 minutes(27.60% complete).\n",
            "\t\t\t\t---Test epoch: 276, loss: 1.80151, accuracy: 0.09924---\n",
            "Train epoch: 281, loss: 1.80045, accuracy: 0.09977, time: 58.15 minutes, estimated runtime: 206.94 minutes(28.10% complete).\n",
            "Train epoch: 286, loss: 1.80017, accuracy: 0.09991, time: 59.18 minutes, estimated runtime: 206.92 minutes(28.60% complete).\n",
            "Train epoch: 291, loss: 1.79948, accuracy: 0.10026, time: 60.21 minutes, estimated runtime: 206.91 minutes(29.10% complete).\n",
            "Train epoch: 296, loss: 1.80005, accuracy: 0.09998, time: 61.24 minutes, estimated runtime: 206.90 minutes(29.60% complete).\n",
            "Train epoch: 301, loss: 1.79977, accuracy: 0.10012, time: 62.27 minutes, estimated runtime: 206.89 minutes(30.10% complete).\n",
            "\t\t\t\t---Test epoch: 301, loss: 1.79932, accuracy: 0.10034---\n",
            "Train epoch: 306, loss: 1.80005, accuracy: 0.09998, time: 63.31 minutes, estimated runtime: 206.88 minutes(30.60% complete).\n",
            "Train epoch: 311, loss: 1.79923, accuracy: 0.10038, time: 64.33 minutes, estimated runtime: 206.86 minutes(31.10% complete).\n",
            "Train epoch: 316, loss: 1.79964, accuracy: 0.10018, time: 65.36 minutes, estimated runtime: 206.84 minutes(31.60% complete).\n",
            "Train epoch: 321, loss: 1.80062, accuracy: 0.09969, time: 66.39 minutes, estimated runtime: 206.82 minutes(32.10% complete).\n",
            "Train epoch: 326, loss: 1.79993, accuracy: 0.10004, time: 67.42 minutes, estimated runtime: 206.81 minutes(32.60% complete).\n",
            "\t\t\t\t---Test epoch: 326, loss: 1.80004, accuracy: 0.09998---\n",
            "Train epoch: 331, loss: 1.80005, accuracy: 0.09998, time: 68.46 minutes, estimated runtime: 206.83 minutes(33.10% complete).\n",
            "Train epoch: 336, loss: 1.79985, accuracy: 0.10008, time: 69.49 minutes, estimated runtime: 206.81 minutes(33.60% complete).\n",
            "Train epoch: 341, loss: 1.79985, accuracy: 0.10008, time: 70.52 minutes, estimated runtime: 206.80 minutes(34.10% complete).\n",
            "Train epoch: 346, loss: 1.79993, accuracy: 0.10004, time: 71.55 minutes, estimated runtime: 206.78 minutes(34.60% complete).\n",
            "Train epoch: 351, loss: 1.80005, accuracy: 0.09998, time: 72.58 minutes, estimated runtime: 206.77 minutes(35.10% complete).\n",
            "\t\t\t\t---Test epoch: 351, loss: 1.79980, accuracy: 0.10010---\n",
            "Train epoch: 356, loss: 1.79972, accuracy: 0.10014, time: 73.61 minutes, estimated runtime: 206.78 minutes(35.60% complete).\n",
            "Train epoch: 361, loss: 1.80013, accuracy: 0.09994, time: 74.64 minutes, estimated runtime: 206.77 minutes(36.10% complete).\n",
            "Train epoch: 366, loss: 1.80045, accuracy: 0.09977, time: 75.67 minutes, estimated runtime: 206.76 minutes(36.60% complete).\n",
            "Train epoch: 371, loss: 1.80001, accuracy: 0.10000, time: 76.70 minutes, estimated runtime: 206.75 minutes(37.10% complete).\n",
            "Train epoch: 376, loss: 1.80062, accuracy: 0.09969, time: 77.73 minutes, estimated runtime: 206.74 minutes(37.60% complete).\n",
            "\t\t\t\t---Test epoch: 376, loss: 1.80127, accuracy: 0.09937---\n",
            "Train epoch: 381, loss: 1.80054, accuracy: 0.09973, time: 78.77 minutes, estimated runtime: 206.75 minutes(38.10% complete).\n",
            "Train epoch: 386, loss: 1.80058, accuracy: 0.09971, time: 79.79 minutes, estimated runtime: 206.72 minutes(38.60% complete).\n",
            "Train epoch: 391, loss: 1.80041, accuracy: 0.09979, time: 80.82 minutes, estimated runtime: 206.70 minutes(39.10% complete).\n",
            "Train epoch: 396, loss: 1.80017, accuracy: 0.09992, time: 81.85 minutes, estimated runtime: 206.69 minutes(39.60% complete).\n",
            "Train epoch: 401, loss: 1.79992, accuracy: 0.10004, time: 82.88 minutes, estimated runtime: 206.68 minutes(40.10% complete).\n",
            "\t\t\t\t---Test epoch: 401, loss: 1.79834, accuracy: 0.10083---\n",
            "Train epoch: 406, loss: 1.79992, accuracy: 0.10004, time: 83.92 minutes, estimated runtime: 206.69 minutes(40.60% complete).\n",
            "Train epoch: 411, loss: 1.79985, accuracy: 0.10008, time: 84.94 minutes, estimated runtime: 206.67 minutes(41.10% complete).\n",
            "Train epoch: 416, loss: 1.80050, accuracy: 0.09975, time: 85.97 minutes, estimated runtime: 206.65 minutes(41.60% complete).\n",
            "Train epoch: 421, loss: 1.80090, accuracy: 0.09955, time: 86.99 minutes, estimated runtime: 206.63 minutes(42.10% complete).\n",
            "Train epoch: 426, loss: 1.80029, accuracy: 0.09985, time: 88.02 minutes, estimated runtime: 206.61 minutes(42.60% complete).\n",
            "\t\t\t\t---Test epoch: 426, loss: 1.80419, accuracy: 0.09790---\n",
            "Train epoch: 431, loss: 1.79997, accuracy: 0.10002, time: 89.05 minutes, estimated runtime: 206.61 minutes(43.10% complete).\n",
            "Train epoch: 436, loss: 1.80017, accuracy: 0.09991, time: 90.08 minutes, estimated runtime: 206.59 minutes(43.60% complete).\n",
            "Train epoch: 441, loss: 1.80017, accuracy: 0.09991, time: 91.10 minutes, estimated runtime: 206.57 minutes(44.10% complete).\n",
            "Train epoch: 446, loss: 1.79944, accuracy: 0.10028, time: 92.12 minutes, estimated runtime: 206.55 minutes(44.60% complete).\n",
            "Train epoch: 451, loss: 1.80017, accuracy: 0.09991, time: 93.15 minutes, estimated runtime: 206.54 minutes(45.10% complete).\n",
            "\t\t\t\t---Test epoch: 451, loss: 1.80395, accuracy: 0.09802---\n",
            "Train epoch: 456, loss: 1.80058, accuracy: 0.09971, time: 94.19 minutes, estimated runtime: 206.55 minutes(45.60% complete).\n",
            "Train epoch: 461, loss: 1.79993, accuracy: 0.10004, time: 95.22 minutes, estimated runtime: 206.55 minutes(46.10% complete).\n",
            "Train epoch: 466, loss: 1.80086, accuracy: 0.09957, time: 96.25 minutes, estimated runtime: 206.55 minutes(46.60% complete).\n",
            "Train epoch: 471, loss: 1.79997, accuracy: 0.10002, time: 97.28 minutes, estimated runtime: 206.54 minutes(47.10% complete).\n",
            "Train epoch: 476, loss: 1.80050, accuracy: 0.09975, time: 98.31 minutes, estimated runtime: 206.52 minutes(47.60% complete).\n",
            "\t\t\t\t---Test epoch: 476, loss: 1.79785, accuracy: 0.10107---\n",
            "Train epoch: 481, loss: 1.79964, accuracy: 0.10018, time: 99.34 minutes, estimated runtime: 206.53 minutes(48.10% complete).\n",
            "Train epoch: 486, loss: 1.80062, accuracy: 0.09969, time: 100.37 minutes, estimated runtime: 206.52 minutes(48.60% complete).\n",
            "Train epoch: 491, loss: 1.79948, accuracy: 0.10026, time: 101.39 minutes, estimated runtime: 206.50 minutes(49.10% complete).\n",
            "Train epoch: 496, loss: 1.79964, accuracy: 0.10018, time: 102.42 minutes, estimated runtime: 206.49 minutes(49.60% complete).\n",
            "Train epoch: 501, loss: 1.80021, accuracy: 0.09989, time: 103.45 minutes, estimated runtime: 206.49 minutes(50.10% complete).\n",
            "\t\t\t\t---Test epoch: 501, loss: 1.80444, accuracy: 0.09778---\n",
            "Train epoch: 506, loss: 1.80013, accuracy: 0.09994, time: 104.49 minutes, estimated runtime: 206.50 minutes(50.60% complete).\n",
            "Train epoch: 511, loss: 1.80045, accuracy: 0.09977, time: 105.52 minutes, estimated runtime: 206.51 minutes(51.10% complete).\n",
            "Train epoch: 516, loss: 1.80046, accuracy: 0.09977, time: 106.56 minutes, estimated runtime: 206.51 minutes(51.60% complete).\n",
            "Train epoch: 521, loss: 1.79956, accuracy: 0.10022, time: 107.59 minutes, estimated runtime: 206.50 minutes(52.10% complete).\n",
            "Train epoch: 526, loss: 1.80029, accuracy: 0.09985, time: 108.61 minutes, estimated runtime: 206.49 minutes(52.60% complete).\n",
            "\t\t\t\t---Test epoch: 526, loss: 1.79907, accuracy: 0.10046---\n",
            "Train epoch: 531, loss: 1.80009, accuracy: 0.09996, time: 109.65 minutes, estimated runtime: 206.50 minutes(53.10% complete).\n",
            "Train epoch: 536, loss: 1.79997, accuracy: 0.10002, time: 110.68 minutes, estimated runtime: 206.48 minutes(53.60% complete).\n",
            "Train epoch: 541, loss: 1.79976, accuracy: 0.10012, time: 111.70 minutes, estimated runtime: 206.48 minutes(54.10% complete).\n",
            "Train epoch: 546, loss: 1.79993, accuracy: 0.10004, time: 112.74 minutes, estimated runtime: 206.47 minutes(54.60% complete).\n",
            "Train epoch: 551, loss: 1.79993, accuracy: 0.10004, time: 113.77 minutes, estimated runtime: 206.48 minutes(55.10% complete).\n",
            "\t\t\t\t---Test epoch: 551, loss: 1.80005, accuracy: 0.09998---\n",
            "Train epoch: 556, loss: 1.79968, accuracy: 0.10016, time: 114.81 minutes, estimated runtime: 206.50 minutes(55.60% complete).\n",
            "Train epoch: 561, loss: 1.80058, accuracy: 0.09971, time: 115.84 minutes, estimated runtime: 206.49 minutes(56.10% complete).\n",
            "Train epoch: 566, loss: 1.79993, accuracy: 0.10004, time: 116.87 minutes, estimated runtime: 206.48 minutes(56.60% complete).\n",
            "Train epoch: 571, loss: 1.80001, accuracy: 0.10000, time: 117.90 minutes, estimated runtime: 206.47 minutes(57.10% complete).\n",
            "Train epoch: 576, loss: 1.80005, accuracy: 0.09998, time: 118.92 minutes, estimated runtime: 206.46 minutes(57.60% complete).\n",
            "\t\t\t\t---Test epoch: 576, loss: 1.80127, accuracy: 0.09937---\n",
            "Train epoch: 581, loss: 1.80066, accuracy: 0.09967, time: 119.96 minutes, estimated runtime: 206.46 minutes(58.10% complete).\n",
            "Train epoch: 586, loss: 1.79948, accuracy: 0.10026, time: 120.99 minutes, estimated runtime: 206.46 minutes(58.60% complete).\n",
            "Train epoch: 591, loss: 1.79968, accuracy: 0.10016, time: 122.02 minutes, estimated runtime: 206.46 minutes(59.10% complete).\n",
            "Train epoch: 596, loss: 1.79997, accuracy: 0.10002, time: 123.05 minutes, estimated runtime: 206.46 minutes(59.60% complete).\n",
            "Train epoch: 601, loss: 1.79956, accuracy: 0.10022, time: 124.08 minutes, estimated runtime: 206.46 minutes(60.10% complete).\n",
            "\t\t\t\t---Test epoch: 601, loss: 1.79371, accuracy: 0.10315---\n",
            "Train epoch: 606, loss: 1.80001, accuracy: 0.10000, time: 125.13 minutes, estimated runtime: 206.48 minutes(60.60% complete).\n",
            "Train epoch: 611, loss: 1.79964, accuracy: 0.10018, time: 126.15 minutes, estimated runtime: 206.47 minutes(61.10% complete).\n",
            "Train epoch: 616, loss: 1.79981, accuracy: 0.10010, time: 127.18 minutes, estimated runtime: 206.46 minutes(61.60% complete).\n",
            "Train epoch: 621, loss: 1.79993, accuracy: 0.10004, time: 128.21 minutes, estimated runtime: 206.45 minutes(62.10% complete).\n",
            "Train epoch: 626, loss: 1.79972, accuracy: 0.10014, time: 129.23 minutes, estimated runtime: 206.44 minutes(62.60% complete).\n",
            "\t\t\t\t---Test epoch: 626, loss: 1.80396, accuracy: 0.09802---\n",
            "Train epoch: 631, loss: 1.80054, accuracy: 0.09973, time: 130.27 minutes, estimated runtime: 206.44 minutes(63.10% complete).\n",
            "Train epoch: 636, loss: 1.79952, accuracy: 0.10024, time: 131.29 minutes, estimated runtime: 206.43 minutes(63.60% complete).\n",
            "Train epoch: 641, loss: 1.79972, accuracy: 0.10014, time: 132.31 minutes, estimated runtime: 206.42 minutes(64.10% complete).\n",
            "Train epoch: 646, loss: 1.79952, accuracy: 0.10024, time: 133.35 minutes, estimated runtime: 206.42 minutes(64.60% complete).\n",
            "Train epoch: 651, loss: 1.79985, accuracy: 0.10008, time: 134.38 minutes, estimated runtime: 206.42 minutes(65.10% complete).\n",
            "\t\t\t\t---Test epoch: 651, loss: 1.80298, accuracy: 0.09851---\n",
            "Train epoch: 656, loss: 1.79980, accuracy: 0.10010, time: 135.42 minutes, estimated runtime: 206.43 minutes(65.60% complete).\n",
            "Train epoch: 661, loss: 1.80017, accuracy: 0.09991, time: 136.45 minutes, estimated runtime: 206.43 minutes(66.10% complete).\n",
            "Train epoch: 666, loss: 1.80009, accuracy: 0.09995, time: 137.48 minutes, estimated runtime: 206.42 minutes(66.60% complete).\n",
            "Train epoch: 671, loss: 1.80074, accuracy: 0.09963, time: 138.50 minutes, estimated runtime: 206.41 minutes(67.10% complete).\n",
            "Train epoch: 676, loss: 1.79989, accuracy: 0.10006, time: 139.53 minutes, estimated runtime: 206.41 minutes(67.60% complete).\n",
            "\t\t\t\t---Test epoch: 676, loss: 1.80395, accuracy: 0.09802---\n",
            "Train epoch: 681, loss: 1.80058, accuracy: 0.09971, time: 140.57 minutes, estimated runtime: 206.42 minutes(68.10% complete).\n",
            "Train epoch: 686, loss: 1.79956, accuracy: 0.10022, time: 141.60 minutes, estimated runtime: 206.42 minutes(68.60% complete).\n",
            "Train epoch: 691, loss: 1.79997, accuracy: 0.10002, time: 142.64 minutes, estimated runtime: 206.42 minutes(69.10% complete).\n",
            "Train epoch: 696, loss: 1.80013, accuracy: 0.09993, time: 143.67 minutes, estimated runtime: 206.42 minutes(69.60% complete).\n",
            "Train epoch: 701, loss: 1.79981, accuracy: 0.10010, time: 144.70 minutes, estimated runtime: 206.42 minutes(70.10% complete).\n",
            "\t\t\t\t---Test epoch: 701, loss: 1.79785, accuracy: 0.10107---\n",
            "Train epoch: 706, loss: 1.79932, accuracy: 0.10034, time: 145.74 minutes, estimated runtime: 206.43 minutes(70.60% complete).\n",
            "Train epoch: 711, loss: 1.80041, accuracy: 0.09979, time: 146.77 minutes, estimated runtime: 206.43 minutes(71.10% complete).\n",
            "Train epoch: 716, loss: 1.80009, accuracy: 0.09996, time: 147.80 minutes, estimated runtime: 206.42 minutes(71.60% complete).\n",
            "Train epoch: 721, loss: 1.80033, accuracy: 0.09983, time: 148.83 minutes, estimated runtime: 206.42 minutes(72.10% complete).\n",
            "Train epoch: 726, loss: 1.80005, accuracy: 0.09998, time: 149.86 minutes, estimated runtime: 206.42 minutes(72.60% complete).\n",
            "\t\t\t\t---Test epoch: 726, loss: 1.80273, accuracy: 0.09863---\n",
            "Train epoch: 731, loss: 1.79989, accuracy: 0.10006, time: 150.89 minutes, estimated runtime: 206.42 minutes(73.10% complete).\n",
            "Train epoch: 736, loss: 1.79985, accuracy: 0.10008, time: 151.92 minutes, estimated runtime: 206.42 minutes(73.60% complete).\n",
            "Train epoch: 741, loss: 1.80009, accuracy: 0.09996, time: 152.95 minutes, estimated runtime: 206.42 minutes(74.10% complete).\n",
            "Train epoch: 746, loss: 1.80025, accuracy: 0.09987, time: 153.98 minutes, estimated runtime: 206.41 minutes(74.60% complete).\n",
            "Train epoch: 751, loss: 1.79980, accuracy: 0.10010, time: 155.01 minutes, estimated runtime: 206.41 minutes(75.10% complete).\n",
            "\t\t\t\t---Test epoch: 751, loss: 1.80249, accuracy: 0.09875---\n",
            "Train epoch: 756, loss: 1.80017, accuracy: 0.09992, time: 156.05 minutes, estimated runtime: 206.42 minutes(75.60% complete).\n",
            "Train epoch: 761, loss: 1.80066, accuracy: 0.09967, time: 157.09 minutes, estimated runtime: 206.42 minutes(76.10% complete).\n",
            "Train epoch: 766, loss: 1.80005, accuracy: 0.09998, time: 158.12 minutes, estimated runtime: 206.42 minutes(76.60% complete).\n",
            "Train epoch: 771, loss: 1.79985, accuracy: 0.10008, time: 159.15 minutes, estimated runtime: 206.42 minutes(77.10% complete).\n",
            "Train epoch: 776, loss: 1.80025, accuracy: 0.09987, time: 160.18 minutes, estimated runtime: 206.42 minutes(77.60% complete).\n",
            "\t\t\t\t---Test epoch: 776, loss: 1.80200, accuracy: 0.09900---\n",
            "Train epoch: 781, loss: 1.80009, accuracy: 0.09996, time: 161.23 minutes, estimated runtime: 206.44 minutes(78.10% complete).\n",
            "Train epoch: 786, loss: 1.79981, accuracy: 0.10010, time: 162.26 minutes, estimated runtime: 206.44 minutes(78.60% complete).\n",
            "Train epoch: 791, loss: 1.79993, accuracy: 0.10004, time: 163.30 minutes, estimated runtime: 206.45 minutes(79.10% complete).\n",
            "Train epoch: 796, loss: 1.80005, accuracy: 0.09997, time: 164.33 minutes, estimated runtime: 206.44 minutes(79.60% complete).\n",
            "Train epoch: 801, loss: 1.80009, accuracy: 0.09996, time: 165.36 minutes, estimated runtime: 206.44 minutes(80.10% complete).\n",
            "\t\t\t\t---Test epoch: 801, loss: 1.79858, accuracy: 0.10071---\n",
            "Train epoch: 806, loss: 1.79940, accuracy: 0.10030, time: 166.40 minutes, estimated runtime: 206.45 minutes(80.60% complete).\n",
            "Train epoch: 811, loss: 1.79977, accuracy: 0.10012, time: 167.43 minutes, estimated runtime: 206.45 minutes(81.10% complete).\n",
            "Train epoch: 816, loss: 1.79920, accuracy: 0.10040, time: 168.46 minutes, estimated runtime: 206.45 minutes(81.60% complete).\n",
            "Train epoch: 821, loss: 1.80001, accuracy: 0.10000, time: 169.49 minutes, estimated runtime: 206.44 minutes(82.10% complete).\n",
            "Train epoch: 826, loss: 1.80066, accuracy: 0.09967, time: 170.51 minutes, estimated runtime: 206.43 minutes(82.60% complete).\n",
            "\t\t\t\t---Test epoch: 826, loss: 1.79883, accuracy: 0.10059---\n",
            "Train epoch: 831, loss: 1.79997, accuracy: 0.10002, time: 171.55 minutes, estimated runtime: 206.44 minutes(83.10% complete).\n",
            "Train epoch: 836, loss: 1.80009, accuracy: 0.09995, time: 172.58 minutes, estimated runtime: 206.43 minutes(83.60% complete).\n",
            "Train epoch: 841, loss: 1.80050, accuracy: 0.09975, time: 173.61 minutes, estimated runtime: 206.43 minutes(84.10% complete).\n",
            "Train epoch: 846, loss: 1.79919, accuracy: 0.10040, time: 174.64 minutes, estimated runtime: 206.43 minutes(84.60% complete).\n",
            "Train epoch: 851, loss: 1.79981, accuracy: 0.10010, time: 175.67 minutes, estimated runtime: 206.43 minutes(85.10% complete).\n",
            "\t\t\t\t---Test epoch: 851, loss: 1.80273, accuracy: 0.09863---\n",
            "Train epoch: 856, loss: 1.80013, accuracy: 0.09993, time: 176.71 minutes, estimated runtime: 206.44 minutes(85.60% complete).\n",
            "Train epoch: 861, loss: 1.79993, accuracy: 0.10004, time: 177.74 minutes, estimated runtime: 206.44 minutes(86.10% complete).\n",
            "Train epoch: 866, loss: 1.79964, accuracy: 0.10018, time: 178.78 minutes, estimated runtime: 206.44 minutes(86.60% complete).\n",
            "Train epoch: 871, loss: 1.79980, accuracy: 0.10010, time: 179.81 minutes, estimated runtime: 206.44 minutes(87.10% complete).\n",
            "Train epoch: 876, loss: 1.80042, accuracy: 0.09979, time: 180.84 minutes, estimated runtime: 206.44 minutes(87.60% complete).\n",
            "\t\t\t\t---Test epoch: 876, loss: 1.80054, accuracy: 0.09973---\n",
            "Train epoch: 881, loss: 1.80021, accuracy: 0.09989, time: 181.88 minutes, estimated runtime: 206.45 minutes(88.10% complete).\n",
            "Train epoch: 886, loss: 1.79997, accuracy: 0.10002, time: 182.91 minutes, estimated runtime: 206.45 minutes(88.60% complete).\n",
            "Train epoch: 891, loss: 1.79968, accuracy: 0.10016, time: 183.95 minutes, estimated runtime: 206.45 minutes(89.10% complete).\n",
            "Train epoch: 896, loss: 1.80009, accuracy: 0.09996, time: 184.98 minutes, estimated runtime: 206.45 minutes(89.60% complete).\n",
            "Train epoch: 901, loss: 1.80009, accuracy: 0.09996, time: 186.01 minutes, estimated runtime: 206.45 minutes(90.10% complete).\n",
            "\t\t\t\t---Test epoch: 901, loss: 1.79517, accuracy: 0.10242---\n",
            "Train epoch: 906, loss: 1.79976, accuracy: 0.10012, time: 187.05 minutes, estimated runtime: 206.46 minutes(90.60% complete).\n",
            "Train epoch: 911, loss: 1.79981, accuracy: 0.10010, time: 188.08 minutes, estimated runtime: 206.46 minutes(91.10% complete).\n",
            "Train epoch: 916, loss: 1.79956, accuracy: 0.10022, time: 189.12 minutes, estimated runtime: 206.46 minutes(91.60% complete).\n",
            "Train epoch: 921, loss: 1.79985, accuracy: 0.10008, time: 190.14 minutes, estimated runtime: 206.45 minutes(92.10% complete).\n",
            "Train epoch: 926, loss: 1.80005, accuracy: 0.09998, time: 191.17 minutes, estimated runtime: 206.44 minutes(92.60% complete).\n",
            "\t\t\t\t---Test epoch: 926, loss: 1.79761, accuracy: 0.10120---\n",
            "Train epoch: 931, loss: 1.80062, accuracy: 0.09969, time: 192.21 minutes, estimated runtime: 206.45 minutes(93.10% complete).\n",
            "Train epoch: 936, loss: 1.80009, accuracy: 0.09996, time: 193.23 minutes, estimated runtime: 206.45 minutes(93.60% complete).\n",
            "Train epoch: 941, loss: 1.79989, accuracy: 0.10006, time: 194.26 minutes, estimated runtime: 206.44 minutes(94.10% complete).\n",
            "Train epoch: 946, loss: 1.80046, accuracy: 0.09977, time: 195.28 minutes, estimated runtime: 206.43 minutes(94.60% complete).\n",
            "Train epoch: 951, loss: 1.80017, accuracy: 0.09991, time: 196.32 minutes, estimated runtime: 206.43 minutes(95.10% complete).\n",
            "\t\t\t\t---Test epoch: 951, loss: 1.80078, accuracy: 0.09961---\n",
            "Train epoch: 956, loss: 1.79977, accuracy: 0.10012, time: 197.36 minutes, estimated runtime: 206.44 minutes(95.60% complete).\n",
            "Train epoch: 961, loss: 1.80025, accuracy: 0.09987, time: 198.38 minutes, estimated runtime: 206.43 minutes(96.10% complete).\n",
            "Train epoch: 966, loss: 1.79997, accuracy: 0.10002, time: 199.41 minutes, estimated runtime: 206.42 minutes(96.60% complete).\n",
            "Train epoch: 971, loss: 1.79952, accuracy: 0.10024, time: 200.43 minutes, estimated runtime: 206.42 minutes(97.10% complete).\n",
            "Train epoch: 976, loss: 1.79980, accuracy: 0.10010, time: 201.45 minutes, estimated runtime: 206.41 minutes(97.60% complete).\n",
            "\t\t\t\t---Test epoch: 976, loss: 1.80322, accuracy: 0.09839---\n",
            "Train epoch: 981, loss: 1.80001, accuracy: 0.10000, time: 202.49 minutes, estimated runtime: 206.41 minutes(98.10% complete).\n",
            "Train epoch: 986, loss: 1.79948, accuracy: 0.10026, time: 203.52 minutes, estimated runtime: 206.41 minutes(98.60% complete).\n",
            "Train epoch: 991, loss: 1.79989, accuracy: 0.10006, time: 204.56 minutes, estimated runtime: 206.42 minutes(99.10% complete).\n",
            "Train epoch: 996, loss: 1.79989, accuracy: 0.10006, time: 205.59 minutes, estimated runtime: 206.42 minutes(99.60% complete).\n"
          ]
        }
      ]
    },
    {
      "cell_type": "code",
      "source": [
        "# sound when finished\n",
        "from google.colab import output\n",
        "output.eval_js('new Audio(\"https://upload.wikimedia.org/wikipedia/commons/0/05/Beep-09.ogg\").play()')\n"
      ],
      "metadata": {
        "id": "3L77SbbpNaur"
      },
      "execution_count": 1,
      "outputs": []
    },
    {
      "cell_type": "markdown",
      "source": [
        "# Visualisations"
      ],
      "metadata": {
        "id": "roRhQcUymbxw"
      }
    },
    {
      "cell_type": "code",
      "source": [
        "x = sorted(test_metrics_dict.keys())\n",
        "y = [test_metrics_dict[key][\"loss\"] for key in x]\n",
        "plt.plot(x,y)\n",
        "plt.title(\"Loss Progression\")\n",
        "plt.xlabel(\"Epoch\")\n",
        "plt.ylabel(\"loss\")\n",
        "plt.show()"
      ],
      "metadata": {
        "id": "N7hq5aPzgbVD"
      },
      "execution_count": null,
      "outputs": []
    },
    {
      "cell_type": "code",
      "source": [
        "x = sorted(test_metrics_dict.keys())\n",
        "y = [test_metrics_dict[key][\"accuracy\"] for key in x]\n",
        "plt.plot(x,y)\n",
        "plt.title(\"Accuracy Progression\")\n",
        "plt.xlabel(\"Epoch\")\n",
        "plt.ylabel(\"accuracy\")\n",
        "plt.show()"
      ],
      "metadata": {
        "colab": {
          "base_uri": "https://localhost:8080/",
          "height": 295
        },
        "id": "u8uX2-sgnMNT",
        "outputId": "cb596ab5-b2f2-42e0-bbc8-125a6c492e6d"
      },
      "execution_count": 16,
      "outputs": [
        {
          "output_type": "display_data",
          "data": {
            "text/plain": [
              "<Figure size 432x288 with 1 Axes>"
            ],
            "image/png": "[encoded data removed]"
          },
          "metadata": {
            "needs_background": "light"
          }
        }
      ]
    },
    {
      "cell_type": "code",
      "source": [
        ""
      ],
      "metadata": {
        "id": "RlGOKr41n2Ah"
      },
      "execution_count": 16,
      "outputs": []
    }
  ]
}