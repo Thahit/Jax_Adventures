{
  "cells": [
    {
      "cell_type": "markdown",
      "source": [
        "# CFAR 10 Adventure with JAX\n",
        "Learning the basics of the JAX library."
      ],
      "metadata": {
        "id": "9VKKASFdEFUU"
      }
    },
    {
      "cell_type": "markdown",
      "source": [
        "Google Colab does not hace flax installed by default, so uncomment:"
      ],
      "metadata": {
        "id": "RvoaihfNEWKB"
      }
    },
    {
      "cell_type": "code",
      "execution_count": 206,
      "metadata": {
        "id": "CspV4IfoNuH1"
      },
      "outputs": [],
      "source": [
        "#pip install flax"
      ]
    },
    {
      "cell_type": "markdown",
      "metadata": {
        "id": "6q1_syJSOIn0"
      },
      "source": [
        "# Imports"
      ]
    },
    {
      "cell_type": "code",
      "execution_count": 207,
      "metadata": {
        "id": "Gxjji4z8NLJp"
      },
      "outputs": [],
      "source": [
        "import jax\n",
        "import jax.numpy as jnp\n",
        "import numpy as np\n",
        "import flax\n",
        "from flax.training import train_state\n",
        "import optax\n",
        "\n",
        "import torch\n",
        "from torchvision import datasets\n",
        "\n",
        "import time\n",
        "import matplotlib.pyplot as plt"
      ]
    },
    {
      "cell_type": "markdown",
      "metadata": {
        "id": "N4I9AoXQQYzc"
      },
      "source": [
        "# Data"
      ]
    },
    {
      "cell_type": "code",
      "execution_count": 208,
      "metadata": {
        "id": "WJLHwpROQat7"
      },
      "outputs": [],
      "source": [
        "def custom_collate_fn(batch):\n",
        "    transposed_data = list(zip(*batch))\n",
        "\n",
        "    labels = np.array(transposed_data[1])\n",
        "    imgs = np.stack(transposed_data[0])\n",
        "\n",
        "    return imgs, labels"
      ]
    },
    {
      "cell_type": "code",
      "execution_count": 209,
      "metadata": {
        "colab": {
          "base_uri": "https://localhost:8080/"
        },
        "id": "EtIiGNGNQh0V",
        "outputId": "412b985e-2616-4ad6-e35d-962d95fca69e"
      },
      "outputs": [
        {
          "output_type": "stream",
          "name": "stdout",
          "text": [
            "Files already downloaded and verified\n",
            "Files already downloaded and verified\n",
            "390.0  batches\n"
          ]
        }
      ],
      "source": [
        "batch_size = 128\n",
        "\n",
        "train_loader = torch.utils.data.DataLoader(\n",
        "    datasets.CIFAR10('../data', train=True, download=True),\n",
        "    batch_size=batch_size, shuffle=True,\n",
        "    collate_fn=custom_collate_fn,\n",
        "    drop_last = True # because the last one might(does) have the wrong size\n",
        "    )\n",
        "\n",
        "test_loader = torch.utils.data.DataLoader(\n",
        "    datasets.CIFAR10('../data', train=False, download=True),\n",
        "    batch_size=batch_size, shuffle=True,\n",
        "    collate_fn=custom_collate_fn,\n",
        "    drop_last = True\n",
        "    )\n",
        "nr_batches = np.floor(len(train_loader.dataset)/batch_size)\n",
        "print(nr_batches, \" batches\")"
      ]
    },
    {
      "cell_type": "code",
      "execution_count": 210,
      "metadata": {
        "id": "-DfoxjBxQm3A"
      },
      "outputs": [],
      "source": [
        "'''for imgs, sol in train_loader:\n",
        "    print(imgs.shape)\n",
        "    break'''\n",
        "img_size = (32, 32, 3)\n",
        "num_classes = 10"
      ]
    },
    {
      "cell_type": "markdown",
      "metadata": {
        "id": "oB7bf8MiNXkw"
      },
      "source": [
        "# Model\n",
        "I have been experimenting with different versions."
      ]
    },
    {
      "cell_type": "code",
      "execution_count": 211,
      "metadata": {
        "id": "DTRYsMj4Ojiz"
      },
      "outputs": [],
      "source": [
        "# selfmade \n",
        "\n",
        "class master_model(flax.linen.Module): \n",
        "    @flax.linen.compact\n",
        "    def __call__(self, x):#size: 32\n",
        "        x = flax.linen.Conv(features=128, kernel_size=(3, 3))(x)\n",
        "        x = flax.linen.relu(x)\n",
        "        x = flax.linen.avg_pool(x, window_shape=(2, 2), strides=(2, 2))#size: 16\n",
        "        x = flax.linen.Conv(features=256, kernel_size=(3, 3))(x)\n",
        "        x = flax.linen.relu(x)\n",
        "        x = flax.linen.avg_pool(x, window_shape=(2, 2), strides=(2, 2))#size: 8\n",
        "        x = flax.linen.Conv(features=128, kernel_size=(3, 3))(x)\n",
        "        x = flax.linen.relu(x)\n",
        "        x = flax.linen.avg_pool(x, window_shape=(2, 2), strides=(2, 2))#size: 4\n",
        "        x = x.reshape((x.shape[0], -1))  # flatten \n",
        "        # print(x.shape) # if not sure\n",
        "        x = flax.linen.Dense(features=2024)(x)\n",
        "        x = flax.linen.relu(x)\n",
        "        x = flax.linen.Dense(features=512)(x)\n",
        "        x = flax.linen.relu(x)\n",
        "        x = flax.linen.Dense(features=256)(x)\n",
        "        x = flax.linen.relu(x)\n",
        "        x = flax.linen.Dense(features=10)(x)\n",
        "        x = flax.linen.softmax(x)#saves some time\n",
        "        return x\n"
      ]
    },
    {
      "cell_type": "code",
      "execution_count": 212,
      "metadata": {
        "id": "GioqcCMjwOki",
        "colab": {
          "base_uri": "https://localhost:8080/",
          "height": 140
        },
        "outputId": "368066b5-d7a5-4615-f8e7-55c9d2deed9f"
      },
      "outputs": [
        {
          "output_type": "execute_result",
          "data": {
            "text/plain": [
              "'\\nclass master_model(flax.linen.Module): \\n    @flax.linen.compact\\n    def __call__(self, x):#size: 32\\n        x = flax.linen.Conv(features=300, kernel_size=(3, 3), padding=\"Valid\")(x)#30\\n        x = flax.linen.relu(x)\\n        x = flax.linen.avg_pool(x, window_shape=(2, 2), strides=(2, 2))#15\\n\\n        x = flax.linen.Conv(features=300, kernel_size=(2, 2), padding=\"Valid\")(x)#14\\n        x = flax.linen.relu(x)\\n        x = flax.linen.avg_pool(x, window_shape=(2, 2), strides=(2, 2))#size: 7\\n\\n        x = flax.linen.Conv(features=300, kernel_size=(2, 2), padding=\"Valid\")(x)#6\\n        x = flax.linen.relu(x)\\n        x = flax.linen.avg_pool(x, window_shape=(2, 2), strides=(2, 2))#size: 3\\n\\n        x = flax.linen.Conv(features=300, kernel_size=(2, 2), padding=\"Valid\")(x)#2\\n        x = flax.linen.relu(x)\\n        x = flax.linen.avg_pool(x, window_shape=(2, 2), strides=(2, 2), padding=\"Valid\")# 1\\n        x = x.reshape((x.shape[0], -1))  #is already down to size 1, but...\\n        # print(x.shape) # if not sure\\n        x = flax.linen.Dense(features=300)(x)\\n        x = flax.linen.relu(x)\\n        x = flax.linen.Dense(features=100)(x)\\n        x = flax.linen.relu(x)\\n        x = flax.linen.Dense(features=10)(x)\\n        x = flax.linen.softmax(x)\\n        return x\\n'"
            ],
            "application/vnd.google.colaboratory.intrinsic+json": {
              "type": "string"
            }
          },
          "metadata": {},
          "execution_count": 212
        }
      ],
      "source": [
        "# https://arxiv.org/pdf/1202.2745v1.pdf\n",
        "# I tried to recreate mcdnn because it was one of the first papers performing really well on this specific dataset\n",
        "'''\n",
        "class master_model(flax.linen.Module): \n",
        "    @flax.linen.compact\n",
        "    def __call__(self, x):#size: 32\n",
        "        x = flax.linen.Conv(features=300, kernel_size=(3, 3), padding=\"Valid\")(x)#30\n",
        "        x = flax.linen.relu(x)\n",
        "        x = flax.linen.avg_pool(x, window_shape=(2, 2), strides=(2, 2))#15\n",
        "\n",
        "        x = flax.linen.Conv(features=300, kernel_size=(2, 2), padding=\"Valid\")(x)#14\n",
        "        x = flax.linen.relu(x)\n",
        "        x = flax.linen.avg_pool(x, window_shape=(2, 2), strides=(2, 2))#size: 7\n",
        "\n",
        "        x = flax.linen.Conv(features=300, kernel_size=(2, 2), padding=\"Valid\")(x)#6\n",
        "        x = flax.linen.relu(x)\n",
        "        x = flax.linen.avg_pool(x, window_shape=(2, 2), strides=(2, 2))#size: 3\n",
        "\n",
        "        x = flax.linen.Conv(features=300, kernel_size=(2, 2), padding=\"Valid\")(x)#2\n",
        "        x = flax.linen.relu(x)\n",
        "        x = flax.linen.avg_pool(x, window_shape=(2, 2), strides=(2, 2), padding=\"Valid\")# 1\n",
        "        x = x.reshape((x.shape[0], -1))  #is already down to size 1, but...\n",
        "        # print(x.shape) # if not sure\n",
        "        x = flax.linen.Dense(features=300)(x)\n",
        "        x = flax.linen.relu(x)\n",
        "        x = flax.linen.Dense(features=100)(x)\n",
        "        x = flax.linen.relu(x)\n",
        "        x = flax.linen.Dense(features=10)(x)\n",
        "        x = flax.linen.softmax(x)\n",
        "        return x\n",
        "'''"
      ]
    },
    {
      "cell_type": "markdown",
      "metadata": {
        "id": "_kuWdAeoO0Me"
      },
      "source": [
        "# Loss"
      ]
    },
    {
      "cell_type": "code",
      "execution_count": 213,
      "metadata": {
        "id": "Glpajjx_OkYE"
      },
      "outputs": [],
      "source": [
        "\n",
        "@jax.jit\n",
        "def loss_fn(params, inputs, onehot_labels):\n",
        "    # cross entropy\n",
        "    predictions = master_model().apply({'params': params}, inputs)# you are predicting inside the loss\n",
        "    #log_predictions = jnp.reshape(log_predictions, [log_predictions.shape[0],-1])\n",
        "\n",
        "    #loss = -jnp.mean(jnp.sum(onehot_labels * jax.nn.log_softmax(log_predictions, axis=-1), axis=-1))\n",
        "    #loss = -jnp.mean(jnp.sum(onehot_labels * log_predictions, axis=-1))\n",
        "    loss = jnp.mean(optax.softmax_cross_entropy(predictions, onehot_labels))\n",
        "\n",
        "    return  loss, predictions"
      ]
    },
    {
      "cell_type": "markdown",
      "metadata": {
        "id": "7EDMfjBLPAgF"
      },
      "source": [
        "# Utility"
      ]
    },
    {
      "cell_type": "code",
      "execution_count": 214,
      "metadata": {
        "id": "m07HpfepOklI"
      },
      "outputs": [],
      "source": [
        "@jax.jit\n",
        "def train_step(state, imgs, labels):\n",
        "    labels_onehot = jax.nn.one_hot(labels, num_classes=10)\n",
        "    (loss, predictions), grads = jax.value_and_grad(loss_fn, has_aux=True)(state.params, imgs, labels_onehot)\n",
        "    state = state.apply_gradients(grads=grads)  \n",
        "    metrics = compute_metrics(predictions=predictions, loss=loss, labels=labels)\n",
        "    return state, metrics\n",
        "\n",
        "def compute_metrics(*, predictions, loss, labels):\n",
        "\n",
        "    accuracy = jnp.mean(jnp.argmax(predictions, -1) == labels)\n",
        "\n",
        "    metrics = {\n",
        "        'loss': loss,\n",
        "        'accuracy': accuracy,\n",
        "    }\n",
        "    return metrics\n",
        "\n",
        "@jax.jit\n",
        "def eval_step(state, imgs, labels):\n",
        "    labels_onehot = jax.nn.one_hot(labels, num_classes = 10)\n",
        "    loss, predictions = loss_fn(state.params, imgs, labels_onehot)\n",
        "    return compute_metrics(predictions = predictions, loss = loss, labels=labels)"
      ]
    },
    {
      "cell_type": "code",
      "execution_count": 215,
      "metadata": {
        "id": "8xJpgxaiNZDA"
      },
      "outputs": [],
      "source": [
        "def train_one_epoch(state, dataloader, epoch):\n",
        "    \"\"\"Train for 1 epoch on the training set.\"\"\"\n",
        "    batch_metrics = []\n",
        "    for _, (imgs, labels) in enumerate(dataloader):\n",
        "        state, metrics = train_step(state, imgs, labels)\n",
        "        \n",
        "        batch_metrics.append(metrics)\n",
        "\n",
        "    # Aggregate the metrics\n",
        "    batch_metrics_np = jax.device_get(batch_metrics)  # back to CPU\n",
        "    epoch_metrics_np = {\n",
        "        k: np.mean([metrics[k] for metrics in batch_metrics_np])\n",
        "        for k in batch_metrics_np[0]\n",
        "    }\n",
        "\n",
        "    return state, epoch_metrics_np\n",
        "\n",
        "def evaluate_model(state, dataloader):#test set\n",
        "    batch_metrics = []\n",
        "    for imgs, labels in dataloader:\n",
        "        metrics = eval_step(state, imgs, labels)\n",
        "        batch_metrics.append(metrics)\n",
        "    \n",
        "    #Aggregate the metrics\n",
        "    batch_metrics_np = jax.device_get(batch_metrics) \n",
        "    epoch_metrics_np = {\n",
        "        k: np.mean([metrics[k] for metrics in batch_metrics_np])\n",
        "        for k in batch_metrics_np[0]\n",
        "    }\n",
        "    return epoch_metrics_np"
      ]
    },
    {
      "cell_type": "code",
      "execution_count": 216,
      "metadata": {
        "id": "DYv6R1U6NaIo"
      },
      "outputs": [],
      "source": [
        "#init the model, optimizer etc.\n",
        "def create_train_state(key, learning_rate, momentum, img_size):\n",
        "    model = master_model()\n",
        "    params = model.init(key, jnp.ones([1, *img_size]))['params']\n",
        "    sgd_opt = optax.sgd(learning_rate, momentum)\n",
        "    \n",
        "    return train_state.TrainState.create(apply_fn=model.apply, params=params, tx=sgd_opt)"
      ]
    },
    {
      "cell_type": "markdown",
      "metadata": {
        "id": "COtKdjGQQKeE"
      },
      "source": [
        "# Train"
      ]
    },
    {
      "cell_type": "code",
      "execution_count": 217,
      "metadata": {
        "id": "ZOgSLfkCNaY2"
      },
      "outputs": [],
      "source": [
        "# for some reason, train_state.TrainState.create can only be run once, so you need to restart the notebook if you want to rerun this cell\n",
        "num_epochs = 300\n",
        "lr = optax.linear_schedule(.002, .00001, transition_steps = round(num_epochs*(nr_batches)))\n",
        "log_epochs = 30\n",
        "momentum = .7\n",
        "seed = 42\n",
        "\n",
        "train_state = create_train_state(jax.random.PRNGKey(seed), lr, momentum, img_size)"
      ]
    },
    {
      "cell_type": "code",
      "execution_count": 218,
      "metadata": {
        "colab": {
          "base_uri": "https://localhost:8080/"
        },
        "id": "B2h5a2VpNakM",
        "outputId": "dfa2a317-7929-4f3c-d03a-5d91b979791e"
      },
      "outputs": [
        {
          "output_type": "stream",
          "name": "stdout",
          "text": [
            "Train epoch: 1, loss: 2.31848, accuracy: 0.14058,         time: 0.11 minutes, estimated runtime: 34.34 minutes (0.33% complete).\n",
            "\t\t\t\t---Test epoch: 1, loss: 2.30415, accuracy: 0.15415---\n",
            "Train epoch: 16, loss: 1.89610, accuracy: 0.56560,         time: 0.99 minutes, estimated runtime: 18.47 minutes (5.32% complete).\n",
            "Train epoch: 31, loss: 1.74754, accuracy: 0.72055,         time: 1.78 minutes, estimated runtime: 17.23 minutes (10.30% complete).\n",
            "\t\t\t\t---Test epoch: 31, loss: 1.84264, accuracy: 0.61729---\n",
            "Train epoch: 46, loss: 1.64374, accuracy: 0.82432,         time: 2.65 minutes, estimated runtime: 17.28 minutes (15.28% complete).\n",
            "Train epoch: 61, loss: 1.59491, accuracy: 0.87013,         time: 3.49 minutes, estimated runtime: 17.15 minutes (20.27% complete).\n",
            "\t\t\t\t---Test epoch: 61, loss: 1.81066, accuracy: 0.65054---\n",
            "Train epoch: 76, loss: 1.57335, accuracy: 0.88874,         time: 4.30 minutes, estimated runtime: 16.98 minutes (25.25% complete).\n",
            "Train epoch: 91, loss: 1.56536, accuracy: 0.89509,         time: 5.22 minutes, estimated runtime: 17.21 minutes (30.23% complete).\n",
            "\t\t\t\t---Test epoch: 91, loss: 1.80649, accuracy: 0.65164---\n",
            "Train epoch: 106, loss: 1.56197, accuracy: 0.89812,         time: 6.09 minutes, estimated runtime: 17.23 minutes (35.22% complete).\n",
            "Train epoch: 121, loss: 1.56027, accuracy: 0.89964,         time: 6.89 minutes, estimated runtime: 17.08 minutes (40.20% complete).\n",
            "\t\t\t\t---Test epoch: 121, loss: 1.80686, accuracy: 0.65204---\n",
            "Train epoch: 136, loss: 1.55911, accuracy: 0.90054,         time: 7.71 minutes, estimated runtime: 17.00 minutes (45.18% complete).\n",
            "Train epoch: 151, loss: 1.55820, accuracy: 0.90140,         time: 8.51 minutes, estimated runtime: 16.90 minutes (50.17% complete).\n",
            "\t\t\t\t---Test epoch: 151, loss: 1.80438, accuracy: 0.65545---\n",
            "Train epoch: 166, loss: 1.55742, accuracy: 0.90210,         time: 9.33 minutes, estimated runtime: 16.86 minutes (55.15% complete).\n",
            "Train epoch: 181, loss: 1.55691, accuracy: 0.90260,         time: 10.12 minutes, estimated runtime: 16.77 minutes (60.13% complete).\n",
            "\t\t\t\t---Test epoch: 181, loss: 1.80471, accuracy: 0.65505---\n",
            "Train epoch: 196, loss: 1.55643, accuracy: 0.90306,         time: 11.03 minutes, estimated runtime: 16.88 minutes (65.12% complete).\n",
            "Train epoch: 211, loss: 1.55607, accuracy: 0.90337,         time: 11.87 minutes, estimated runtime: 16.88 minutes (70.10% complete).\n",
            "\t\t\t\t---Test epoch: 211, loss: 1.80460, accuracy: 0.65465---\n",
            "Train epoch: 226, loss: 1.55593, accuracy: 0.90349,         time: 12.70 minutes, estimated runtime: 16.85 minutes (75.08% complete).\n",
            "Train epoch: 241, loss: 1.55571, accuracy: 0.90373,         time: 13.51 minutes, estimated runtime: 16.81 minutes (80.07% complete).\n",
            "\t\t\t\t---Test epoch: 241, loss: 1.80419, accuracy: 0.65505---\n",
            "Train epoch: 256, loss: 1.55564, accuracy: 0.90377,         time: 14.32 minutes, estimated runtime: 16.79 minutes (85.05% complete).\n",
            "Train epoch: 271, loss: 1.55556, accuracy: 0.90385,         time: 15.12 minutes, estimated runtime: 16.74 minutes (90.03% complete).\n",
            "\t\t\t\t---Test epoch: 271, loss: 1.80364, accuracy: 0.65535---\n",
            "Train epoch: 286, loss: 1.55532, accuracy: 0.90409,         time: 15.93 minutes, estimated runtime: 16.71 minutes (95.02% complete).\n",
            "\t\t\t\t---Test epoch: 300, loss: 1.80407, accuracy: 0.65535---\n"
          ]
        }
      ],
      "source": [
        "test_metrics_dict = {}\n",
        "start = time.time()\n",
        "for epoch in range(num_epochs):\n",
        "    train_state, train_metrics = train_one_epoch(train_state, train_loader, epoch)\n",
        "    end = time.time()\n",
        "    \n",
        "    if epoch % 15 == 0:# don't print every update\n",
        "        time_since_start = (end-start)/60 # in minutes\n",
        "        print(f\"Train epoch: {epoch+1}, loss: {train_metrics['loss']:.5f}, accuracy: {train_metrics['accuracy']:.5f}, \\\n",
        "        time: {time_since_start:.2f} minutes, estimated runtime: {((time_since_start)/(epoch+1)*num_epochs):.2f} minutes ({(epoch+1)/(num_epochs+1)*100:.2f}% complete).\")\n",
        "\n",
        "    if epoch % log_epochs == 0:#evaluate method\n",
        "        test_metrics = evaluate_model(train_state, test_loader)\n",
        "        print(f\"\\t\\t\\t\\t---Test epoch: {epoch+1}, loss: {test_metrics['loss']:.5f}, accuracy: {test_metrics['accuracy']:.5f}---\")\n",
        "\n",
        "        test_metrics_dict[epoch+1] = test_metrics\n",
        "# eval at the end\n",
        "test_metrics = evaluate_model(train_state, test_loader)\n",
        "print(f\"\\t\\t\\t\\t---Test epoch: {epoch+1}, loss: {test_metrics['loss']:.5f}, accuracy: {test_metrics['accuracy']:.5f}---\")\n",
        "test_metrics_dict[epoch+1] = test_metrics"
      ]
    },
    {
      "cell_type": "code",
      "execution_count": 219,
      "metadata": {
        "id": "3L77SbbpNaur"
      },
      "outputs": [],
      "source": [
        "# sound when finished\n",
        "from google.colab import output\n",
        "output.eval_js('new Audio(\"https://upload.wikimedia.org/wikipedia/commons/0/05/Beep-09.ogg\").play()')"
      ]
    },
    {
      "cell_type": "markdown",
      "metadata": {
        "id": "roRhQcUymbxw"
      },
      "source": [
        "# Visualisations"
      ]
    },
    {
      "cell_type": "code",
      "execution_count": 220,
      "metadata": {
        "colab": {
          "base_uri": "https://localhost:8080/",
          "height": 295
        },
        "id": "N7hq5aPzgbVD",
        "outputId": "092e1890-c44d-4979-b774-a57709c67f5f"
      },
      "outputs": [
        {
          "output_type": "display_data",
          "data": {
            "text/plain": [
              "<Figure size 432x288 with 1 Axes>"
            ],
            "image/png": "[encoded data removed]"
          },
          "metadata": {
            "needs_background": "light"
          }
        }
      ],
      "source": [
        "x = sorted(test_metrics_dict.keys())\n",
        "y = [test_metrics_dict[key][\"loss\"] for key in x]\n",
        "plt.plot(x,y)\n",
        "plt.title(\"Loss Progression\")\n",
        "plt.xlabel(\"Epoch\")\n",
        "plt.ylabel(\"loss\")\n",
        "plt.show()"
      ]
    },
    {
      "cell_type": "code",
      "execution_count": 221,
      "metadata": {
        "colab": {
          "base_uri": "https://localhost:8080/",
          "height": 295
        },
        "id": "u8uX2-sgnMNT",
        "outputId": "64784427-b98a-4c71-eef5-b84cec43eae6"
      },
      "outputs": [
        {
          "output_type": "display_data",
          "data": {
            "text/plain": [
              "<Figure size 432x288 with 1 Axes>"
            ],
            "image/png": "[encoded data removed]"
          },
          "metadata": {
            "needs_background": "light"
          }
        }
      ],
      "source": [
        "x = sorted(test_metrics_dict.keys())\n",
        "y = [test_metrics_dict[key][\"accuracy\"] for key in x]\n",
        "plt.plot(x,y)\n",
        "plt.title(\"Accuracy Progression\")\n",
        "plt.xlabel(\"Epoch\")\n",
        "plt.ylabel(\"accuracy\")\n",
        "plt.show()"
      ]
    },
    {
      "cell_type": "markdown",
      "source": [
        "## Evaluation\n",
        "I trained both networks for the same amount of epochs + with same learning rate (I fixed the values when working with MCDNN and then just coppied them).\n",
        "MCDNN takes about 5-6 times longer to train.\n",
        "Improving the training procedure would increase the performance of the models (You can see the real performance of MCDNN in the paper for refernce), but I did not have the time/GPU's to keep the models running forever.\n",
        "\n",
        "\n",
        "MCDNN did not really improve a lot for the last 100 epochs, but because the accuracy is way lower than the one in the paper I assume the learning rate decayed too fast.\n",
        "The final training accuracy was around 71.9% and for testing around 56.7%.\n",
        "\n",
        "The other network got 90.4% accuracy on the raining set and 65.5% on the test set.\n",
        "\n"
      ],
      "metadata": {
        "id": "L4WBIsA5M7Qh"
      }
    }
  ],
  "metadata": {
    "accelerator": "GPU",
    "colab": {
      "provenance": []
    },
    "gpuClass": "standard",
    "kernelspec": {
      "display_name": "Python 3",
      "name": "python3"
    },
    "language_info": {
      "name": "python"
    }
  },
  "nbformat": 4,
  "nbformat_minor": 0
}